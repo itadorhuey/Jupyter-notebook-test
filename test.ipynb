{
 "cells": [
  {
   "cell_type": "code",
   "execution_count": 1,
   "id": "38430601-8f38-4370-9d89-9f95cf2c92bd",
   "metadata": {},
   "outputs": [
    {
     "name": "stdout",
     "output_type": "stream",
     "text": [
      "Test set accuracy (R-squared score): 0.5851\n",
      "Variance of predictions: 3019.5249\n"
     ]
    }
   ],
   "source": [
    "import pandas as pd  \n",
    "import numpy as np  \n",
    "from sklearn.model_selection import train_test_split  \n",
    "from sklearn.linear_model import LinearRegression  \n",
    "from sklearn.metrics import r2_score  \n",
    "\n",
    "# Load the datasets  \n",
    "features = pd.read_csv('Q2_file.csv')  \n",
    "target = pd.read_csv('Q2_Targetfile.csv')  \n",
    "\n",
    "# Combine features and target  \n",
    "data = pd.concat([features, target], axis=1)  \n",
    "\n",
    "# Partition the data  \n",
    "train_data = data.iloc[:422]  \n",
    "test_data = data.iloc[422:]  \n",
    "\n",
    "# Separate features and target for training and test sets  \n",
    "X_train = train_data.iloc[:, :-1]  \n",
    "y_train = train_data.iloc[:, -1]  \n",
    "\n",
    "X_test = test_data.iloc[:, :-1]  \n",
    "y_test = test_data.iloc[:, -1]  \n",
    "\n",
    "# Create and train the linear regression model  \n",
    "model = LinearRegression()  \n",
    "model.fit(X_train, y_train)  \n",
    "\n",
    "# Make predictions on the test set  \n",
    "y_pred = model.predict(X_test)  \n",
    "\n",
    "# Calculate the R-squared score for the test set  \n",
    "test_accuracy = r2_score(y_test, y_pred)  \n",
    "\n",
    "print(f\"Test set accuracy (R-squared score): {test_accuracy:.4f}\")  \n",
    "\n",
    "# Calculate the variance of the predictions  \n",
    "prediction_variance = np.var(y_pred)  \n",
    "\n",
    "print(f\"Variance of predictions: {prediction_variance:.4f}\")\n",
    "\n"
   ]
  }
 ],
 "metadata": {
  "kernelspec": {
   "display_name": "Python 3 (ipykernel)",
   "language": "python",
   "name": "python3"
  },
  "language_info": {
   "codemirror_mode": {
    "name": "ipython",
    "version": 3
   },
   "file_extension": ".py",
   "mimetype": "text/x-python",
   "name": "python",
   "nbconvert_exporter": "python",
   "pygments_lexer": "ipython3",
   "version": "3.12.7"
  }
 },
 "nbformat": 4,
 "nbformat_minor": 5
}
